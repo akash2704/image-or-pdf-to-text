{
  "nbformat": 4,
  "nbformat_minor": 0,
  "metadata": {
    "colab": {
      "provenance": [],
      "gpuType": "T4",
      "mount_file_id": "1AxX_Sig_W0HaPmwFUIDDuCgCNlYDB6Md",
      "authorship_tag": "ABX9TyMEg56UDeiTKKNvAUH7KLPk",
      "include_colab_link": true
    },
    "kernelspec": {
      "name": "python3",
      "display_name": "Python 3"
    },
    "language_info": {
      "name": "python"
    },
    "accelerator": "GPU"
  },
  "cells": [
    {
      "cell_type": "markdown",
      "metadata": {
        "id": "view-in-github",
        "colab_type": "text"
      },
      "source": [
        "<a href=\"https://colab.research.google.com/github/akash2704/image-or-pdf-to-text/blob/main/image_pdf_to_Text_recoginaion.ipynb\" target=\"_parent\"><img src=\"https://colab.research.google.com/assets/colab-badge.svg\" alt=\"Open In Colab\"/></a>"
      ]
    },
    {
      "cell_type": "markdown",
      "source": [
        "# Text detection and recofiniation\n"
      ],
      "metadata": {
        "id": "YAiSXAEXD_6p"
      }
    },
    {
      "cell_type": "markdown",
      "source": [
        "### Downloading dependencies and importing them"
      ],
      "metadata": {
        "id": "1-vxCLMnHNFv"
      }
    },
    {
      "cell_type": "code",
      "source": [
        "!pip install pdf2image\n"
      ],
      "metadata": {
        "colab": {
          "base_uri": "https://localhost:8080/"
        },
        "id": "Rd3ya7M32PqQ",
        "outputId": "3f710fc8-9d99-42ec-8d5f-e4b19f0ae8a9"
      },
      "execution_count": null,
      "outputs": [
        {
          "output_type": "stream",
          "name": "stdout",
          "text": [
            "Collecting pdf2image\n",
            "  Downloading pdf2image-1.16.3-py3-none-any.whl (11 kB)\n",
            "Requirement already satisfied: pillow in /usr/local/lib/python3.10/dist-packages (from pdf2image) (9.4.0)\n",
            "Installing collected packages: pdf2image\n",
            "Successfully installed pdf2image-1.16.3\n"
          ]
        }
      ]
    },
    {
      "cell_type": "code",
      "source": [
        "!apt-get install tesseract-ocr\n",
        "!pip install pytesseract\n",
        "!apt-get install poppler-utils"
      ],
      "metadata": {
        "colab": {
          "base_uri": "https://localhost:8080/"
        },
        "id": "SWXD8hQQHluO",
        "outputId": "9a482072-4bf7-4645-819e-7f8ee42fc06d"
      },
      "execution_count": null,
      "outputs": [
        {
          "output_type": "stream",
          "name": "stdout",
          "text": [
            "Reading package lists... Done\n",
            "Building dependency tree... Done\n",
            "Reading state information... Done\n",
            "tesseract-ocr is already the newest version (4.1.1-2.1build1).\n",
            "0 upgraded, 0 newly installed, 0 to remove and 16 not upgraded.\n",
            "Requirement already satisfied: pytesseract in /usr/local/lib/python3.10/dist-packages (0.3.10)\n",
            "Requirement already satisfied: packaging>=21.3 in /usr/local/lib/python3.10/dist-packages (from pytesseract) (23.1)\n",
            "Requirement already satisfied: Pillow>=8.0.0 in /usr/local/lib/python3.10/dist-packages (from pytesseract) (9.4.0)\n",
            "Reading package lists... Done\n",
            "Building dependency tree... Done\n",
            "Reading state information... Done\n",
            "The following NEW packages will be installed:\n",
            "  poppler-utils\n",
            "0 upgraded, 1 newly installed, 0 to remove and 16 not upgraded.\n",
            "Need to get 186 kB of archives.\n",
            "After this operation, 696 kB of additional disk space will be used.\n",
            "Get:1 http://archive.ubuntu.com/ubuntu jammy-updates/main amd64 poppler-utils amd64 22.02.0-2ubuntu0.2 [186 kB]\n",
            "Fetched 186 kB in 1s (238 kB/s)\n",
            "Selecting previously unselected package poppler-utils.\n",
            "(Reading database ... 120948 files and directories currently installed.)\n",
            "Preparing to unpack .../poppler-utils_22.02.0-2ubuntu0.2_amd64.deb ...\n",
            "Unpacking poppler-utils (22.02.0-2ubuntu0.2) ...\n",
            "Setting up poppler-utils (22.02.0-2ubuntu0.2) ...\n",
            "Processing triggers for man-db (2.10.2-1) ...\n"
          ]
        }
      ]
    },
    {
      "cell_type": "code",
      "execution_count": null,
      "metadata": {
        "colab": {
          "base_uri": "https://localhost:8080/"
        },
        "id": "SvpMNLXrD9p2",
        "outputId": "711f96aa-60c5-46c6-ce71-89a5fd8c70d4"
      },
      "outputs": [
        {
          "output_type": "stream",
          "name": "stdout",
          "text": [
            "Requirement already satisfied: opencv-python in /usr/local/lib/python3.10/dist-packages (4.8.0.76)\n",
            "Requirement already satisfied: numpy>=1.21.2 in /usr/local/lib/python3.10/dist-packages (from opencv-python) (1.23.5)\n",
            "Requirement already satisfied: pytesseract in /usr/local/lib/python3.10/dist-packages (0.3.10)\n",
            "Requirement already satisfied: packaging>=21.3 in /usr/local/lib/python3.10/dist-packages (from pytesseract) (23.1)\n",
            "Requirement already satisfied: Pillow>=8.0.0 in /usr/local/lib/python3.10/dist-packages (from pytesseract) (9.4.0)\n"
          ]
        }
      ],
      "source": [
        "!pip install opencv-python\n",
        "!pip install pytesseract"
      ]
    },
    {
      "cell_type": "code",
      "source": [
        "import cv2\n",
        "import pytesseract\n",
        "from google.colab import drive\n",
        "\n",
        "# Mount Google Drive if not already mounted\n",
        "drive.mount('/content/drive')\n",
        "\n",
        "# Configure Pytesseract to use Tesseract OCR binary\n",
        "pytesseract.pytesseract.tesseract_cmd = '/usr/bin/tesseract'\n"
      ],
      "metadata": {
        "colab": {
          "base_uri": "https://localhost:8080/"
        },
        "id": "IR8SygsFEvsN",
        "outputId": "98d8104c-ac6a-4b06-bb3d-dfc5055d6186"
      },
      "execution_count": null,
      "outputs": [
        {
          "output_type": "stream",
          "name": "stdout",
          "text": [
            "Drive already mounted at /content/drive; to attempt to forcibly remount, call drive.mount(\"/content/drive\", force_remount=True).\n"
          ]
        }
      ]
    },
    {
      "cell_type": "markdown",
      "source": [
        "### Image to text dectection and classification"
      ],
      "metadata": {
        "id": "2wNAZbzpHe8c"
      }
    },
    {
      "cell_type": "code",
      "source": [
        "import cv2\n",
        "import pytesseract\n",
        "\n",
        "def read_text(image_path):\n",
        "  \"\"\"Reads text from an image using OpenCV and PyTesseract.\n",
        "\n",
        "  Args:\n",
        "    image_path: The path to the image file.\n",
        "\n",
        "  Returns:\n",
        "    The text extracted from the image.\n",
        "  \"\"\"\n",
        "\n",
        "  # Read the image.\n",
        "  img = cv2.imread(image_path)\n",
        "\n",
        "  # Convert the image to grayscale.\n",
        "  gray_img = cv2.cvtColor(img, cv2.COLOR_BGR2GRAY)\n",
        "\n",
        "  # Apply thresholding to improve the contrast of the image.\n",
        "  thresh_img = cv2.threshold(gray_img, 127, 255, cv2.THRESH_BINARY)[1]\n",
        "\n",
        "  # Recognize the text in the image.\n",
        "  text = pytesseract.image_to_string(thresh_img)\n",
        "\n",
        "  return text\n",
        "\n",
        "\n",
        "if __name__ == \"__main__\":\n",
        "  # Get the path to the image file.\n",
        "  image_path = \"/content/drive/MyDrive/Data/Task1/2.jpg\"\n",
        "\n",
        "  # Read the text from the image.\n",
        "  text = read_text(image_path)\n",
        "\n",
        "  # Print the text.\n",
        "  print(text)\n"
      ],
      "metadata": {
        "colab": {
          "base_uri": "https://localhost:8080/"
        },
        "id": "MfxksHduaNvE",
        "outputId": "28b54097-df32-49f8-d72f-7e0811179503"
      },
      "execution_count": null,
      "outputs": [
        {
          "output_type": "stream",
          "name": "stdout",
          "text": [
            " \n",
            "\f\n"
          ]
        }
      ]
    },
    {
      "cell_type": "markdown",
      "source": [
        "### PDF to Text dectection and classification"
      ],
      "metadata": {
        "id": "C1n293-yHr1e"
      }
    },
    {
      "cell_type": "code",
      "source": [
        "import io\n",
        "import pytesseract\n",
        "from pdf2image import convert_from_path\n",
        "\n",
        "def extract_text_from_pdf(pdf_path):\n",
        "    # Convert PDF to image\n",
        "    pages = convert_from_path(pdf_path, 500)\n",
        "\n",
        "    # Extract text from each page using Tesseract OCR\n",
        "    text_data = ''\n",
        "    for page in pages:\n",
        "        text = pytesseract.image_to_string(page)\n",
        "        text_data += text + '\\n'\n",
        "\n",
        "    # Return the text data\n",
        "    return text_data\n",
        "\n",
        "text = extract_text_from_pdf('/content/drive/MyDrive/Data/Task1/table.pdf')\n",
        "print(text)"
      ],
      "metadata": {
        "colab": {
          "base_uri": "https://localhost:8080/"
        },
        "id": "5CtvzPkT0ihh",
        "outputId": "a7c07708-3679-4764-e256-c2889ce99231"
      },
      "execution_count": null,
      "outputs": [
        {
          "output_type": "stream",
          "name": "stdout",
          "text": [
            "NATIONAL PARTNERSHIP FOR QUALITY AFTERSCHOOL LEARNING\n",
            "www.sedl.org/afterschool/toolkits\n",
            "\n",
            "AFTERSCHOOL TRAINING TOOLKIT\n",
            "\n",
            "Tutoring to Enhance Science Skills\n",
            "Tutoring Two: Learning to Make Data Tables\n",
            "\n",
            "Sample Data for Data Tables\n",
            "\n",
            "Use these data to create data tables following the Guidelines for Making a Data Table and\n",
            "Checklist for a Data Table.\n",
            "\n",
            "Example 1: Pet Survey (GR 2-3)\n",
            "Ms. Hubert’s afterschool students took a survey of the 600 students at Morales Elementary\n",
            "School. Students were asked to select their favorite pet from a list of eight animals. Here\n",
            "are the results.\n",
            "\n",
            "Lizard 25, Dog 250, Cat 115, Bird 50, Guinea pig 30, Hamster 45, Fish 75,\n",
            "\n",
            "Ferret 10\n",
            "\n",
            "Example 2: Electromagnets—Increasing Coils (GR 3-5)\n",
            "\n",
            "The following data were collected using an electromagnet with a 1.5 volt battery, a switch,\n",
            "a piece of #20 insulated wire, and a nail. Three trials were run. Safety precautions in\n",
            "repeating this experiment include using safety goggles or safety spectacles and avoiding\n",
            "Short circuits.\n",
            "\n",
            "Number of Coils Number of Paperclips\n",
            "\n",
            "3, 5,4\n",
            "\n",
            "Example 3: pH of Substances (GR 5-10)\n",
            "\n",
            "The following are pH values of common household substances taken by three different\n",
            "teams using pH probes. Safety precautions in repeating this experiment include hooded\n",
            "ventilation, chemical-splash safety goggles, gloves, and apron. Do not use bleach,\n",
            "ammonia, or strong acids with children.\n",
            "\n",
            "Lemon juice 2.4, 2.0, 2.2; Baking soda (1 Tbsp) in Water (1 cup) 8.4, 8.3, 8.7;\n",
            "Orange juice 3.5, 4.0, 3.4; Battery acid 1.0, 0.7, 0.5; Apples 3.0, 3.2, 3.5;\n",
            "Tomatoes 4.5, 4.2, 4.0; Bottled water 6.7, 7.0, 7.2; Milk of magnesia 10.5, 10.3,\n",
            "10.6; Liquid hand soap 9.0, 10.0, 9.5; Vinegar 2.2, 2.9, 3.0; Household bleach\n",
            "12.5, 12.5, 12.7; Milk 6.6, 6.5, 6.4; Household ammonia 11.5, 11.0, 11.5;\n",
            "\n",
            "Lye 13.0, 13.5, 13.4; and Sodium hydroxide 14.0, 14.0, 13.9; Anti-freeze 10.1,\n",
            "10.9, 9.7; Windex 9.9. 10.2, 9.5; Liquid detergent 10.5, 10.0, 10.3; and\n",
            "\n",
            "Cola 3.0, 2.5, 3.2\n",
            "\n",
            " \n",
            "\n",
            "Teaching tip: The pH scale is from 0 to 14. Have students make two data tables, one\n",
            "with the data as given and one with the pH scale O to 14 with the substances’ average\n",
            "DH in rank order on the scale (Battery acid at the lower end and Sodium hydroxide at\n",
            "the upper end) or create a pH graphic organizer.\n",
            "\n",
            "1\n",
            "\f\n",
            "Example 4: Automobile Land Speed Records (GR 5-10)\n",
            "\n",
            "In the first recorded automobile race in 1898, Count Gaston de Chasseloup-Laubat of\n",
            "Paris, France, drove 1 kilometer in 57 seconds for an average speed of 39.2 miles per hour\n",
            "(mph) or 63.1 kilometers per hour (kph). In 1904, Henry Ford drove his Ford Arrow across\n",
            "frozen Lake St. Clair, MI, at an average speed of 91.4 mph. Now, the North American\n",
            "Eagle is trying to break a land speed record of 800 mph. The Federation International de\n",
            "L’Automobile (FIA), the world’s governing body for motor sport and land speed records,\n",
            "recorded the following land speed records. (Retrieved on February 5, 2006, from\n",
            "\n",
            "http ://www.landspeed.com/Isrinfo.asp. )\n",
            "\n",
            "[seced (mon) [omer [ew ——~~=*déiRowine | te\n",
            "\n",
            "Example 5: Distance and Time (GR 8-10)\n",
            "\n",
            "The following data were collected using a car with a water clock set to release a drop in\n",
            "\n",
            "a unit of time and a meter stick. The car rolled down an inclined plane. Three trials were\n",
            "run. Create a data table with an average distance column and an average velocity column,\n",
            "create an average distance-time graph, and draw the best-fit line or curve. Estimate the\n",
            "car’s distance traveled and velocity at six drops of water. Describe the motion of the car. Is\n",
            "it going at a constant speed, accelerating, or decelerating? How do you know?\n",
            "\n",
            "Time (drops of water) Distance (cm)\n",
            "0118\n",
            "29) 31, 30\n",
            "\n",
            " \n",
            "\n",
            " \n",
            "\n",
            "© 2006 WGBH Educational Foundation. All rights reserved.\n",
            "2\n",
            "\f\n",
            "\n"
          ]
        }
      ]
    },
    {
      "cell_type": "code",
      "source": [
        "with open ('/content/drive/MyDrive/Data/Task1/text_output/Stable.txt','w') as f:\n",
        "  f.write(text)"
      ],
      "metadata": {
        "id": "B4_upaNECcAB"
      },
      "execution_count": null,
      "outputs": []
    }
  ]
}